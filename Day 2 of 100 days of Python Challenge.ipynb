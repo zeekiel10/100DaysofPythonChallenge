{
 "cells": [
  {
   "cell_type": "code",
   "execution_count": 1,
   "id": "b4fabb3c",
   "metadata": {},
   "outputs": [
    {
     "name": "stdout",
     "output_type": "stream",
     "text": [
      "Hello World!\n",
      "Hello Ayobami\n"
     ]
    }
   ],
   "source": [
    "#print the word\n",
    "print(\"Hello World!\\nHello Ayobami\")"
   ]
  },
  {
   "cell_type": "code",
   "execution_count": 3,
   "id": "c9266dbe",
   "metadata": {},
   "outputs": [
    {
     "name": "stdout",
     "output_type": "stream",
     "text": [
      "H\n"
     ]
    }
   ],
   "source": [
    "#pulling out the first character of a string,which is known as(subscripting)\n",
    "print(\"Hello\"[0])"
   ]
  },
  {
   "cell_type": "code",
   "execution_count": 6,
   "id": "96dfbfbc",
   "metadata": {},
   "outputs": [
    {
     "name": "stdout",
     "output_type": "stream",
     "text": [
      "o\n"
     ]
    }
   ],
   "source": [
    "#pulling out the last character \n",
    "print(\"Hello\"[4])"
   ]
  },
  {
   "cell_type": "code",
   "execution_count": 7,
   "id": "6671b5f3",
   "metadata": {},
   "outputs": [
    {
     "name": "stdout",
     "output_type": "stream",
     "text": [
      "yo\n"
     ]
    }
   ],
   "source": [
    "#pulling character 4 and 7\n",
    "street_name = \"Abbey Road\"\n",
    "print(street_name[4] + street_name[7])"
   ]
  },
  {
   "cell_type": "code",
   "execution_count": 8,
   "id": "78ad32ec",
   "metadata": {},
   "outputs": [
    {
     "name": "stdout",
     "output_type": "stream",
     "text": [
      "<class 'int'>\n"
     ]
    }
   ],
   "source": [
    "#Type checking\n",
    "a=12\n",
    "print(type(a))"
   ]
  },
  {
   "cell_type": "code",
   "execution_count": 9,
   "id": "a561e791",
   "metadata": {},
   "outputs": [
    {
     "name": "stdout",
     "output_type": "stream",
     "text": [
      "<class 'str'>\n"
     ]
    }
   ],
   "source": [
    "#Type checking\n",
    "a=str(34)\n",
    "print(type(a))"
   ]
  },
  {
   "cell_type": "code",
   "execution_count": 12,
   "id": "1319a47a",
   "metadata": {},
   "outputs": [
    {
     "name": "stdout",
     "output_type": "stream",
     "text": [
      "<class 'float'>\n"
     ]
    }
   ],
   "source": [
    "c= 12.34\n",
    "print(type(c))"
   ]
  },
  {
   "cell_type": "code",
   "execution_count": 13,
   "id": "cef103f9",
   "metadata": {},
   "outputs": [
    {
     "name": "stdout",
     "output_type": "stream",
     "text": [
      "170.5\n"
     ]
    }
   ],
   "source": [
    "print(70 + float(\"100.5\"))"
   ]
  },
  {
   "cell_type": "code",
   "execution_count": 15,
   "id": "43c26095",
   "metadata": {},
   "outputs": [
    {
     "name": "stdout",
     "output_type": "stream",
     "text": [
      "70170\n"
     ]
    }
   ],
   "source": [
    "print(str (70) + str (170))"
   ]
  },
  {
   "cell_type": "code",
   "execution_count": 18,
   "id": "664c3aa5",
   "metadata": {},
   "outputs": [
    {
     "name": "stdout",
     "output_type": "stream",
     "text": [
      "12\n"
     ]
    }
   ],
   "source": [
    "#day 2 ex1\n",
    "#Write a program that adds the digits in a 2 digit number. e.g. if the input was 35, then the output should be 3 + 5 = 8\\\n",
    "num = 39\n",
    "result = sum(int(digit) for (digit)in str(num))\n",
    "print(result)"
   ]
  },
  {
   "cell_type": "code",
   "execution_count": 20,
   "id": "b075e4c0",
   "metadata": {},
   "outputs": [
    {
     "name": "stdout",
     "output_type": "stream",
     "text": [
      "7.0\n"
     ]
    }
   ],
   "source": [
    "#using PEMDAS what will this out be (3*3+3/3-3)\n",
    "print(3*3+3/3-3)"
   ]
  },
  {
   "cell_type": "code",
   "execution_count": 21,
   "id": "a3830318",
   "metadata": {},
   "outputs": [
    {
     "name": "stdout",
     "output_type": "stream",
     "text": [
      "3.0\n"
     ]
    }
   ],
   "source": [
    "#using PEMDAS what will this out be (3*(3+3)/3-3)\n",
    "print(3*(3+3)/3-3)"
   ]
  },
  {
   "cell_type": "code",
   "execution_count": 23,
   "id": "f9d6a17f",
   "metadata": {},
   "outputs": [
    {
     "name": "stdout",
     "output_type": "stream",
     "text": [
      "56\n",
      "3.6\n",
      "0\n"
     ]
    }
   ],
   "source": [
    "# 1st input: enter height in meters e.g: 1.65\n",
    "height = input() \n",
    "# 2nd input: enter weight in kilograms e.g: 72\n",
    "weight = input() \n",
    "# 🚨 Don't change the code above 👆\n",
    "\n",
    "# Write your code below this line 👇\n",
    "result = int(float(weight)/float(height)**2)\n",
    "print(result)"
   ]
  },
  {
   "cell_type": "code",
   "execution_count": 2,
   "id": "ad965d61",
   "metadata": {},
   "outputs": [
    {
     "name": "stdout",
     "output_type": "stream",
     "text": [
      "1.65\n",
      "72\n",
      "26\n"
     ]
    }
   ],
   "source": [
    "#DAY 2\n",
    "# 1st input: enter height in meters e.g: 1.65\n",
    "height = input() \n",
    "# 2nd input: enter weight in kilograms e.g: 72\n",
    "weight = input() \n",
    "# 🚨 Don't change the code above 👆\n",
    "\n",
    "# Write your code below this line 👇\n",
    "result = int(float(weight)/float(height)**2)\n",
    "print(result)"
   ]
  },
  {
   "cell_type": "code",
   "execution_count": 3,
   "id": "232c0c84",
   "metadata": {},
   "outputs": [
    {
     "name": "stdout",
     "output_type": "stream",
     "text": [
      "What is your current age? 25\n",
      "You have 23725 days, 3380 weeks, and 780 months left\n"
     ]
    }
   ],
   "source": [
    "#calculating the total days,weeks and months i have left if am to live up to 90\n",
    "age = input(\"What is your current age? \")\n",
    "# 🚨 Don't change the code above 👆\n",
    "# Write your code below this line 👇\n",
    "my_age = int(age)\n",
    "years_left = 90 - my_age\n",
    "months = years_left * 12\n",
    "weeks = years_left * 52\n",
    "days = years_left * 365\n",
    "print(f\"You have {days} days, {weeks} weeks, and {months} months left\")"
   ]
  },
  {
   "cell_type": "code",
   "execution_count": 4,
   "id": "b1b95924",
   "metadata": {},
   "outputs": [
    {
     "name": "stdout",
     "output_type": "stream",
     "text": [
      "25\n",
      "You have  3380 weeks left\n"
     ]
    }
   ],
   "source": [
    "#weeks i have left, if i'm to live up to 90\n",
    "age = input()\n",
    "# 🚨 Don't change the code above 👆\n",
    "# Write your code below this line 👇\n",
    "my_age = int(age)\n",
    "years_left = 90 - my_age\n",
    "weeks = years_left * 52\n",
    "print(f\"You have  {weeks} weeks left\")"
   ]
  },
  {
   "cell_type": "code",
   "execution_count": 6,
   "id": "50f8ecd0",
   "metadata": {},
   "outputs": [
    {
     "name": "stdout",
     "output_type": "stream",
     "text": [
      "Welcome to the tip calculator\n",
      "What was the total bill? $300\n",
      "What percentage tip would you like to give? 12\n",
      "Tip amount: $36.00\n",
      "Total bill including tip: $336.00\n"
     ]
    }
   ],
   "source": [
    "# Building a tip calculator\n",
    "print(\"Welcome to the tip calculator\")\n",
    "\n",
    "# Get the total bill and tip percentage from the user\n",
    "bill = float(input(\"What was the total bill? $\"))\n",
    "tip_percentage = float(input(\"What percentage tip would you like to give? \"))\n",
    "\n",
    "# Calculate the tip and total bill\n",
    "tip_amount = bill * tip_percentage / 100\n",
    "total_bill = bill + tip_amount\n",
    "\n",
    "# Display the results\n",
    "print(f\"Tip amount: ${tip_amount:.2f}\")\n",
    "print(f\"Total bill including tip: ${total_bill:.2f}\")"
   ]
  },
  {
   "cell_type": "code",
   "execution_count": 7,
   "id": "38f76cac",
   "metadata": {},
   "outputs": [
    {
     "name": "stdout",
     "output_type": "stream",
     "text": [
      "Welcome to the tip calculator\n",
      "What was the total bill?300\n",
      "What percentage tip would you like to give?,10,12 or 1515\n",
      "How many people split the bill6\n",
      "Each friends pays :$57.5\n"
     ]
    }
   ],
   "source": [
    "#Building a tip calculator\n",
    "print(\"Welcome to the tip calculator\")\n",
    "bill = int(input(\"What was the total bill?\"))\n",
    "tip = int(input(\"What percentage tip would you like to give?,10,12 or 15\"))\n",
    "friends_split = int(input(\"How many people split the bill\"))\n",
    "bill_with_tip = (tip/100*bill)+bill\n",
    "final_payment = round(bill_with_tip/friends_split,2)\n",
    "print(f\"Each friends pays :${final_payment}\")"
   ]
  },
  {
   "cell_type": "code",
   "execution_count": null,
   "id": "ecfac426",
   "metadata": {},
   "outputs": [],
   "source": []
  }
 ],
 "metadata": {
  "kernelspec": {
   "display_name": "Python 3 (ipykernel)",
   "language": "python",
   "name": "python3"
  },
  "language_info": {
   "codemirror_mode": {
    "name": "ipython",
    "version": 3
   },
   "file_extension": ".py",
   "mimetype": "text/x-python",
   "name": "python",
   "nbconvert_exporter": "python",
   "pygments_lexer": "ipython3",
   "version": "3.11.5"
  }
 },
 "nbformat": 4,
 "nbformat_minor": 5
}
