{
 "cells": [
  {
   "cell_type": "code",
   "execution_count": null,
   "id": "6d23f921",
   "metadata": {},
   "outputs": [],
   "source": []
  },
  {
   "cell_type": "code",
   "execution_count": 1,
   "id": "858de6a2",
   "metadata": {},
   "outputs": [
    {
     "name": "stdout",
     "output_type": "stream",
     "text": [
      "First python program.....\n"
     ]
    }
   ],
   "source": [
    "print (\"First python program.....\")"
   ]
  },
  {
   "cell_type": "code",
   "execution_count": 2,
   "id": "1e87263d",
   "metadata": {},
   "outputs": [
    {
     "name": "stdout",
     "output_type": "stream",
     "text": [
      "sum =  17\n"
     ]
    }
   ],
   "source": [
    "a =5\n",
    "b= 12\n",
    "c= a+b\n",
    "print (\"sum = \",c)"
   ]
  },
  {
   "cell_type": "code",
   "execution_count": 1,
   "id": "0638323e",
   "metadata": {},
   "outputs": [
    {
     "name": "stdout",
     "output_type": "stream",
     "text": [
      "8\n"
     ]
    }
   ],
   "source": [
    "print(len(\"95637+12\"))\n",
    "\n"
   ]
  },
  {
   "cell_type": "code",
   "execution_count": 2,
   "id": "3a338320",
   "metadata": {},
   "outputs": [
    {
     "name": "stdout",
     "output_type": "stream",
     "text": [
      "B\n"
     ]
    }
   ],
   "source": [
    "score = 67\n",
    "if score < 80 and score > 70:\n",
    "    print(\"A\")\n",
    "elif score < 90 or score > 80:\n",
    "    print(\"B\")\n",
    "elif score > 60:\n",
    "    print(\"C\")\n",
    "else:\n",
    "    print(\"D\")"
   ]
  },
  {
   "cell_type": "code",
   "execution_count": 6,
   "id": "0d35aaa0",
   "metadata": {},
   "outputs": [
    {
     "name": "stdout",
     "output_type": "stream",
     "text": [
      "Hello World\n"
     ]
    }
   ],
   "source": [
    "print(\"Hello World\")"
   ]
  },
  {
   "cell_type": "code",
   "execution_count": 15,
   "id": "c75b34bd",
   "metadata": {},
   "outputs": [
    {
     "name": "stdout",
     "output_type": "stream",
     "text": [
      "Day 1 -Python print Function\n",
      "The function is declared like this :\n",
      "print ('what to print')'\n"
     ]
    }
   ],
   "source": [
    "print (\"Day 1 -Python print Function\")\n",
    "print (\"The function is declared like this :\")\n",
    "print (\"print ('what to print')'\")"
   ]
  },
  {
   "cell_type": "code",
   "execution_count": 21,
   "id": "d5bc3a73",
   "metadata": {},
   "outputs": [
    {
     "name": "stdout",
     "output_type": "stream",
     "text": [
      "Day 1 -Python print Function\n",
      "The function is declared like this :\n",
      "print (\"what to print\")\n"
     ]
    }
   ],
   "source": [
    "print (\"Day 1 -Python print Function\")\n",
    "print (\"The function is declared like this :\")\n",
    "print ('print (\"what to print\")')"
   ]
  },
  {
   "cell_type": "code",
   "execution_count": null,
   "id": "ed2790d3",
   "metadata": {},
   "outputs": [],
   "source": [
    "print (\"Hello World\\nHello World\")"
   ]
  },
  {
   "cell_type": "markdown",
   "id": "b0becc6e",
   "metadata": {},
   "source": []
  },
  {
   "cell_type": "code",
   "execution_count": 10,
   "id": "367b49e2",
   "metadata": {},
   "outputs": [
    {
     "name": "stdout",
     "output_type": "stream",
     "text": [
      "Hello Ayobami\n"
     ]
    }
   ],
   "source": [
    "print (\"Hello\" + \" Ayobami\")"
   ]
  },
  {
   "cell_type": "code",
   "execution_count": null,
   "id": "d7959b27",
   "metadata": {},
   "outputs": [],
   "source": [
    "print (\"Hello\" + \" \" + \"Ayobami\")"
   ]
  },
  {
   "cell_type": "code",
   "execution_count": 31,
   "id": "0eaa5644",
   "metadata": {},
   "outputs": [
    {
     "name": "stdout",
     "output_type": "stream",
     "text": [
      "String Concatenate is done with the \"+\"sign.\n"
     ]
    }
   ],
   "source": [
    "print('String Concatenate is done with the \"+\"sign.')"
   ]
  },
  {
   "cell_type": "code",
   "execution_count": 3,
   "id": "0a6a34b3",
   "metadata": {},
   "outputs": [
    {
     "name": "stdout",
     "output_type": "stream",
     "text": [
      "What is your name?Ayodeji Joshua\n",
      "Hello Ayodeji Joshua!\n"
     ]
    }
   ],
   "source": [
    "print(\"Hello \" + input (\"What is your name?\")+ \"!\")"
   ]
  },
  {
   "cell_type": "code",
   "execution_count": 2,
   "id": "0c0a7849",
   "metadata": {},
   "outputs": [
    {
     "name": "stdout",
     "output_type": "stream",
     "text": [
      "What is your name?Ayobami\n"
     ]
    },
    {
     "data": {
      "text/plain": [
       "'Ayobami'"
      ]
     },
     "execution_count": 2,
     "metadata": {},
     "output_type": "execute_result"
    }
   ],
   "source": [
    "input(\"What is your name?\")"
   ]
  },
  {
   "cell_type": "code",
   "execution_count": 1,
   "id": "fb749bc7",
   "metadata": {},
   "outputs": [
    {
     "name": "stdout",
     "output_type": "stream",
     "text": [
      "What is your name?Ayobami Adetifa\n",
      "Hello Ayobami Adetifa!\n"
     ]
    }
   ],
   "source": [
    "print(\"Hello \" + input (\"What is your name?\")+ \"!\")"
   ]
  },
  {
   "cell_type": "code",
   "execution_count": null,
   "id": "826345dc",
   "metadata": {},
   "outputs": [],
   "source": [
    "print(\"Hello \" + input (\"What is your name?\").len())"
   ]
  },
  {
   "cell_type": "code",
   "execution_count": 10,
   "id": "ce4f9ba9",
   "metadata": {},
   "outputs": [
    {
     "name": "stdout",
     "output_type": "stream",
     "text": [
      "What is your name?Ayobami\n",
      "7\n"
     ]
    }
   ],
   "source": [
    "print(len(input (\"What is your name?\")))"
   ]
  },
  {
   "cell_type": "code",
   "execution_count": 6,
   "id": "4da1879f",
   "metadata": {},
   "outputs": [
    {
     "name": "stdout",
     "output_type": "stream",
     "text": [
      "What is my Name?Boluwatife\n",
      "the length of the name is 10\n"
     ]
    }
   ],
   "source": [
    "Name = input(\"What is my Name?\")\n",
    "length = len(Name)\n",
    "print(f\"the length of the name is {length}\")"
   ]
  },
  {
   "cell_type": "code",
   "execution_count": null,
   "id": "6ef55574",
   "metadata": {},
   "outputs": [],
   "source": [
    "input(\"What is your name?\")"
   ]
  },
  {
   "cell_type": "code",
   "execution_count": 14,
   "id": "9d01378a",
   "metadata": {},
   "outputs": [
    {
     "name": "stdout",
     "output_type": "stream",
     "text": [
      "a :6\n",
      "b:9\n",
      "6 9\n"
     ]
    }
   ],
   "source": [
    "a= input(\"a :\")\n",
    "b= input(\"b:\")\n",
    "print(a,b)"
   ]
  },
  {
   "cell_type": "code",
   "execution_count": 1,
   "id": "7a44f4b5",
   "metadata": {},
   "outputs": [
    {
     "name": "stdout",
     "output_type": "stream",
     "text": [
      "Hello 100 days of python\n"
     ]
    }
   ],
   "source": [
    "print(\"Hello 100 days of python\")"
   ]
  },
  {
   "cell_type": "code",
   "execution_count": 2,
   "id": "9dd64b59",
   "metadata": {},
   "outputs": [
    {
     "name": "stdout",
     "output_type": "stream",
     "text": [
      "What city did you grow up in?Lagos\n"
     ]
    }
   ],
   "source": [
    "name = input(\"What city did you grow up in?\")"
   ]
  },
  {
   "cell_type": "code",
   "execution_count": 4,
   "id": "028a2dc6",
   "metadata": {},
   "outputs": [
    {
     "name": "stdout",
     "output_type": "stream",
     "text": [
      "What is the name of your pet?Bella\n"
     ]
    }
   ],
   "source": [
    "name = input(\"What is the name of your pet?\")"
   ]
  },
  {
   "cell_type": "code",
   "execution_count": 7,
   "id": "d55aa588",
   "metadata": {},
   "outputs": [
    {
     "name": "stdout",
     "output_type": "stream",
     "text": [
      "Hello Ayobami\n"
     ]
    }
   ],
   "source": [
    "print(\"Hello\" + \" Ayobami\")"
   ]
  },
  {
   "cell_type": "code",
   "execution_count": 9,
   "id": "8e6ff34f",
   "metadata": {},
   "outputs": [
    {
     "name": "stdout",
     "output_type": "stream",
     "text": [
      "Hello Ayobami\n",
      "Hello Ayobami\n"
     ]
    }
   ],
   "source": [
    "print(\"Hello Ayobami\\nHello Ayobami\")"
   ]
  }
 ],
 "metadata": {
  "kernelspec": {
   "display_name": "Python 3 (ipykernel)",
   "language": "python",
   "name": "python3"
  },
  "language_info": {
   "codemirror_mode": {
    "name": "ipython",
    "version": 3
   },
   "file_extension": ".py",
   "mimetype": "text/x-python",
   "name": "python",
   "nbconvert_exporter": "python",
   "pygments_lexer": "ipython3",
   "version": "3.11.5"
  }
 },
 "nbformat": 4,
 "nbformat_minor": 5
}
