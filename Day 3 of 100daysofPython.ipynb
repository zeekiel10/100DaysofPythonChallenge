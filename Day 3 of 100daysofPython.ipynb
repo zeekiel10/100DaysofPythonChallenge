{
 "cells": [
  {
   "cell_type": "markdown",
   "id": "2b0e9b6f",
   "metadata": {},
   "source": [
    "## DAY 3 OF 100DAYSOFPYTHONCHALLENGE"
   ]
  },
  {
   "cell_type": "markdown",
   "id": "8007a628",
   "metadata": {},
   "source": [
    "\n",
    "print(\"Day 3 of 100 days of python\\nHello Ayobami rise and shine\")"
   ]
  },
  {
   "cell_type": "markdown",
   "id": "e5a06962",
   "metadata": {},
   "source": [
    "### CONTROL OVERFLOW"
   ]
  },
  {
   "cell_type": "markdown",
   "id": "70da32b2",
   "metadata": {},
   "source": [
    "\n",
    "#Day 3 lesson with control overflow and conditional statement\n",
    "print('Welcome to the rollercaster !')\n",
    "height = int(input('What is your height in cm'))\n",
    "if height > 130:\n",
    "    print('You can go ahead and enjoy the rollecoaster')\n",
    "else:\n",
    "    print('Please kindly seat and enjoy watching people ride')"
   ]
  },
  {
   "cell_type": "code",
   "execution_count": 16,
   "id": "55370d71",
   "metadata": {
    "scrolled": false
   },
   "outputs": [
    {
     "name": "stdout",
     "output_type": "stream",
     "text": [
      "8\n",
      "This is an even number.\n"
     ]
    }
   ],
   "source": [
    "#Day 3 Exercise 1 (using the if statement to input number if it's even or odd)\n",
    "number = int(input())\n",
    "#if the number can be divided by 2 with 0 remaninder\n",
    "if number % 2 == 0:\n",
    "  print(\"This is an even number.\")\n",
    "# if the number can't be divided with 0 remainder\n",
    "else:\n",
    "  print(\"This is an odd number.\")"
   ]
  },
  {
   "cell_type": "markdown",
   "id": "f44867b1",
   "metadata": {},
   "source": [
    "   #### ADVANCED BMI CALCULATOR"
   ]
  },
  {
   "cell_type": "code",
   "execution_count": 23,
   "id": "8159ea1a",
   "metadata": {},
   "outputs": [
    {
     "name": "stdout",
     "output_type": "stream",
     "text": [
      "1.75\n",
      "80\n",
      "Your BMI is 26.122448979591837, you are slightly overweight.\n"
     ]
    }
   ],
   "source": [
    "#Day 3 Exercise 2 calculating bmi\n",
    "# Enter your height in meters e.g., 1.55\n",
    "height = float(input())\n",
    "# Enter your weight in kilograms e.g., 72AAAA\n",
    "weight = int(input())\n",
    "#Calcuate Bmi\n",
    "bmi = weight/height**2\n",
    "#Categorizing the Bmi and printing out the response\n",
    "if bmi < 18.5 :\n",
    "  print(f\"Your BMI is {bmi}, you are underweight.\")\n",
    "elif bmi > 18.5 and bmi < 25:\n",
    "  print(f\"Your BMI is {bmi}, you have a normal weight.\")\n",
    "elif bmi > 25 and bmi <= 30 :\n",
    "  print(f\"Your BMI is {bmi}, you are slightly overweight.\")\n",
    "elif bmi > 30 and bmi <= 35 :\n",
    "  print(f\"Your BMI is {bmi}, you are obese.\")\n",
    "else  :\n",
    "  print(f\"Your BMI is {bmi}, you are clinically obese.\")"
   ]
  },
  {
   "cell_type": "markdown",
   "id": "2f955fd6",
   "metadata": {},
   "source": [
    "### LEAP YEAR CALCULATOR"
   ]
  },
  {
   "cell_type": "code",
   "execution_count": 26,
   "id": "c31c20f4",
   "metadata": {
    "scrolled": true
   },
   "outputs": [
    {
     "name": "stdout",
     "output_type": "stream",
     "text": [
      "1776\n",
      "Leap year\n"
     ]
    }
   ],
   "source": [
    "#Day 3 Exercise 3 (Leap year findings)\n",
    "# Which year do you want to check?\n",
    "year = int(input())\n",
    "# 🚨 Don't change the code above 👆\n",
    "\n",
    "# Write your code below this line 👇\n",
    "if year % 4 == 0:\n",
    "    if year % 100 != 0 & year % 400 == 0:\n",
    "      print(\"Leap year\")\n",
    "    else:\n",
    "      print(\"Not leap year\")\n",
    "else:\n",
    "  print(\"Not leap year\")"
   ]
  },
  {
   "cell_type": "markdown",
   "id": "de6f4b57",
   "metadata": {},
   "source": [
    "### PIZZA ORDER"
   ]
  },
  {
   "cell_type": "code",
   "execution_count": 2,
   "id": "0ea7f5a8",
   "metadata": {},
   "outputs": [
    {
     "name": "stdout",
     "output_type": "stream",
     "text": [
      "Thank you for choosing Python Pizza Deliveries!\n",
      "M\n",
      "Y\n",
      "N\n",
      "Your final bill is: $23.\n"
     ]
    }
   ],
   "source": [
    "#Day 3 Exercise 4\n",
    "print(\"Thank you for choosing Python Pizza Deliveries!\")\n",
    "size = input() # What size pizza do you want? S, M, or L\n",
    "add_pepperoni = input() # Do you want pepperoni? Y or N\n",
    "extra_cheese = input() # Do you want extra cheese? Y or N\n",
    "# 🚨 Don't change the code above 👆\n",
    "# Write your code below this line 👇\n",
    "bill = 0\n",
    "# Calculate the base price based on the size\n",
    "if size == 'S':\n",
    "  bill+=15\n",
    "elif size =='M':\n",
    "  bill+=20\n",
    "else:\n",
    "  bill+=25\n",
    "#Adding pepperoni for small and Large\n",
    "if add_pepperoni == 'Y':\n",
    "  if size == 'S':\n",
    "     bill+=2\n",
    "  else:\n",
    "     bill+=3\n",
    "#Adding extra cheese\n",
    "if extra_cheese == \"Y\":\n",
    "  bill+= 1\n",
    "print(f'Your final bill is: ${bill}.')"
   ]
  },
  {
   "cell_type": "markdown",
   "id": "1c61033b",
   "metadata": {},
   "source": [
    "### LOVE CALCULATOR"
   ]
  },
  {
   "cell_type": "code",
   "execution_count": 18,
   "id": "80f2a172",
   "metadata": {},
   "outputs": [
    {
     "name": "stdout",
     "output_type": "stream",
     "text": [
      "The Love Calculator is calculating your score...\n",
      "Badekale Ruth Ajoke\n",
      "Adetifa Ayobami Ezekiel\n",
      "Your score is 1111, you go together like coke and mentos.\n"
     ]
    }
   ],
   "source": [
    "Day 3 Exercise 5 (Build a love calculator)\n",
    "print(\"The Love Calculator is calculating your score...\")\n",
    "name1 = input() # What is your name?\n",
    "name2 = input() # What is their name?\n",
    "# 🚨 Don't change the code above 👆\n",
    "# Write your code below this line 👇\n",
    "# Combine the names and convert to lowercase\n",
    "combined_names = (name1 + name2).lower()\n",
    "# Count the occurrences of each letter in the combined names\n",
    "t = combined_names.count(\"t\")\n",
    "r = combined_names.count(\"r\")\n",
    "u = combined_names.count(\"u\")\n",
    "e = combined_names.count(\"e\")\n",
    "\n",
    "l = combined_names.count(\"l\")\n",
    "o = combined_names.count(\"o\")\n",
    "v = combined_names.count(\"v\")\n",
    "e = combined_names.count (\"e\")\n",
    "# Calculate the love score\n",
    "love_score = int(str(t + r + u + e) + str(l + o + v + e))\n",
    "# Interpret the love score and print the result\n",
    "if love_score < 10 or love_score > 90:\n",
    "    print(f\"Your score is {love_score}, you go together like coke and mentos.\")\n",
    "elif 40 <= love_score <= 50:\n",
    "    print(f\"Your score is {love_score}, you are alright together.\")\n",
    "else:\n",
    "    print(f\"Your score is {love_score}.\")"
   ]
  },
  {
   "cell_type": "markdown",
   "id": "6917ee38",
   "metadata": {},
   "source": [
    "### TREASURE ISLAND"
   ]
  },
  {
   "cell_type": "code",
   "execution_count": 4,
   "id": "759bce51",
   "metadata": {},
   "outputs": [
    {
     "name": "stdout",
     "output_type": "stream",
     "text": [
      "Welcome to Treasure Island\n",
      "Your mission is to find the treasure\n",
      "You're at a terminal point, where do you want to go? Type \"Left\" or \"Right\": left\n",
      "Welcome to the lake. There is an island in the middle of the lake. Type \"wait\" to wait for a boat. Type \"swim\" to swim across: swim\n",
      "You got attacked by a mole. Game over!\n"
     ]
    }
   ],
   "source": [
    "# Day 3 project: Build a treasure island game with what you've learnt today\n",
    "\n",
    "print(\"Welcome to Treasure Island\")\n",
    "print(\"Your mission is to find the treasure\")\n",
    "\n",
    "# Start the game\n",
    "choice1 = input('You\\'re at a terminal point, where do you want to go? Type \"Left\" or \"Right\": ').lower()\n",
    "#Check if the user chose 'left'\n",
    "if choice1 == \"left\":\n",
    "    #next action at the lake\n",
    "    choice2 = input('Welcome to the lake. There is an island in the middle of the lake. Type \"wait\" to wait for a boat. Type \"swim\" to swim across: ').lower()\n",
    "#Checking if the user chose wait\n",
    "    if choice2 == \"wait\":\n",
    "        #prompt for the next choice of door color\n",
    "        choice3 = input(\"You arrive at the island unharmed. There is a house with 3 doors: one red, one yellow, and one blue. Which color do you choose? \").lower()\n",
    "        #Decision based on the choice of door\n",
    "        if choice3 == \"red\":\n",
    "            print('It is a room full of snakes. Game over!')\n",
    "        elif choice3 == \"yellow\":\n",
    "            print('Ye! You\\'ve found the treasure. You win!')\n",
    "        elif choice3 == \"blue\":\n",
    "            print(\"You entered a room full of wolves. Game over!\")\n",
    "        else:\n",
    "            #if the user chose color that isn't on the list\n",
    "            print(\"The door doesn't exist. Game over!\")\n",
    "\n",
    "    else:\n",
    "        #if the user chose to swim\n",
    "        print(\"You got attacked by a mole. Game over!\")\n",
    "else:\n",
    "    #if the user chose right instead of left\n",
    "    print(\"You fell into a ditch. Game over!\")\n"
   ]
  },
  {
   "cell_type": "code",
   "execution_count": null,
   "id": "d1baf6b1",
   "metadata": {},
   "outputs": [],
   "source": []
  }
 ],
 "metadata": {
  "kernelspec": {
   "display_name": "Python 3 (ipykernel)",
   "language": "python",
   "name": "python3"
  },
  "language_info": {
   "codemirror_mode": {
    "name": "ipython",
    "version": 3
   },
   "file_extension": ".py",
   "mimetype": "text/x-python",
   "name": "python",
   "nbconvert_exporter": "python",
   "pygments_lexer": "ipython3",
   "version": "3.11.5"
  }
 },
 "nbformat": 4,
 "nbformat_minor": 5
}
