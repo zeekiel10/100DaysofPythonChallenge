{
 "cells": [
  {
   "cell_type": "markdown",
   "id": "c2026f92",
   "metadata": {},
   "source": [
    "#### LOOPS"
   ]
  },
  {
   "cell_type": "code",
   "execution_count": 13,
   "id": "11ff213b",
   "metadata": {
    "scrolled": true
   },
   "outputs": [
    {
     "name": "stdout",
     "output_type": "stream",
     "text": [
      "Apple\n",
      "Apple Pie\n",
      "['Apple', 'Pear', 'Peach']\n",
      "Pear\n",
      "Pear Pie\n",
      "['Apple', 'Pear', 'Peach']\n",
      "Peach\n",
      "Peach Pie\n",
      "['Apple', 'Pear', 'Peach']\n",
      "['Apple', 'Pear', 'Peach']\n"
     ]
    }
   ],
   "source": [
    "#DAY 5 Starting with for loops\n",
    "fruits = [\"Apple\",\"Pear\",\"Peach\"]\n",
    "for fruit in fruits:\n",
    "    print(fruit)\n",
    "    print(fruit + \" Pie\")\n",
    "    #While using for loop indentation matters a lot cause it assigns it to the loop e.g\n",
    "    print(fruits)\n",
    "    #This example shows how the loop repeated the process several times for as long as you want\n",
    "print(fruits)\n",
    "#Here the code executed once cause it's on the sample link with the first code."
   ]
  },
  {
   "cell_type": "markdown",
   "id": "73bfd5b1",
   "metadata": {},
   "source": [
    "##### DAY 5 EX1(WITH SUM AND LEN)"
   ]
  },
  {
   "cell_type": "code",
   "execution_count": 41,
   "id": "fb1d0f67",
   "metadata": {},
   "outputs": [
    {
     "name": "stdout",
     "output_type": "stream",
     "text": [
      "151 145 179\n",
      "158\n"
     ]
    }
   ],
   "source": [
    "# Input a Python list of student heights\n",
    "student_heights = input().split()\n",
    "for n in range(0, len(student_heights)):\n",
    "  student_heights[n] = int(student_heights[n])\n",
    "# Your code below this row 👇\n",
    "total_heights = sum(student_heights)\n",
    "number_of_students = len(student_heights)\n",
    "average_number_of_student = round(total_heights/number_of_students)\n",
    "print(average_number_of_student)A"
   ]
  },
  {
   "cell_type": "markdown",
   "id": "d55c82ae",
   "metadata": {},
   "source": [
    "###### DAY 5 EXERCISE 1 WITH FOR LOOP"
   ]
  },
  {
   "cell_type": "code",
   "execution_count": 14,
   "id": "4ade22e4",
   "metadata": {},
   "outputs": [
    {
     "name": "stdout",
     "output_type": "stream",
     "text": [
      "45 22 72\n",
      "total height = 0\n",
      "current height = 45\n",
      "total height = 45\n",
      "current height = 22\n",
      "total height = 67\n",
      "current height = 72\n",
      "total height = 139\n",
      "number of students = 3\n",
      "average height = 46\n"
     ]
    }
   ],
   "source": [
    "# Input a Python list of student heights\n",
    "student_heights = input().split()\n",
    "for n in range(0, len(student_heights)):\n",
    "  student_heights[n] = int(student_heights[n])\n",
    "# Your code below this row 👇\n",
    "total_height = 0\n",
    "# [23,56,78]\n",
    "for height in student_heights:\n",
    "  print(f\"total height = {total_height}\")\n",
    "  print(f\"current height = {height}\")\n",
    "  total_height += height\n",
    "print(f\"total height = {total_height}\")\n",
    "\n",
    "number_of_students = 0\n",
    "for student in student_heights:\n",
    "  number_of_students += 1\n",
    "print(f\"number of students = {number_of_students}\")\n",
    "\n",
    "average_height = round(total_height / number_of_students)\n",
    "print(f\"average height = {average_height}\")"
   ]
  },
  {
   "cell_type": "code",
   "execution_count": 13,
   "id": "f718451e",
   "metadata": {},
   "outputs": [
    {
     "name": "stdout",
     "output_type": "stream",
     "text": [
      "151 145 179\n",
      "total height = 475\n",
      "number of students = 3\n",
      "average height = 158\n"
     ]
    }
   ],
   "source": [
    "# Input a Python list of student heights\n",
    "student_heights = input().split()\n",
    "for n in range(0, len(student_heights)):\n",
    "  student_heights[n] = int(student_heights[n])\n",
    "# Your code below this row 👇\n",
    "#checking the total number of students in the item\n",
    "total_height = 0\n",
    "for height in student_heights:\n",
    "  total_height += height\n",
    "print(f\"total height = {total_height}\")\n",
    "# counting the students in the item\n",
    "number_of_students = 0\n",
    "for student in student_heights:\n",
    "  number_of_students += 1\n",
    "print(f\"number of students = {number_of_students}\")\n",
    "# getting the average height of student\n",
    "average_height = round(total_height / number_of_students)\n",
    "print(f\"average height = {average_height}\")\n"
   ]
  },
  {
   "cell_type": "code",
   "execution_count": 16,
   "id": "f33e163a",
   "metadata": {},
   "outputs": [
    {
     "name": "stdout",
     "output_type": "stream",
     "text": [
      "78 65 89 86 55 91 64 89\n",
      "The highest score in the class is: 91\n"
     ]
    }
   ],
   "source": [
    "# Input a list of student scores\n",
    "student_scores = input().split()\n",
    "for n in range(0, len(student_scores)):\n",
    "  student_scores[n] = int(student_scores[n])\n",
    "\n",
    "# Write your code below this row 👇\n",
    "#looking for the maximum score in the item\n",
    "highest_score = 0\n",
    "for score in student_scores:\n",
    "  if highest_score == 0 or highest_score < score:\n",
    "        highest_score = score\n",
    "print(f\"The highest score in the class is: {highest_score}\")"
   ]
  },
  {
   "cell_type": "code",
   "execution_count": 19,
   "id": "a298de7a",
   "metadata": {},
   "outputs": [
    {
     "name": "stdout",
     "output_type": "stream",
     "text": [
      "52\n",
      "702\n"
     ]
    }
   ],
   "source": [
    "#Day 5 exercise 3 (sum the even number)\n",
    "target = int(input()) # Enter a number between 0 and 1000\n",
    "# 🚨 Do not change the code above ☝️\n",
    "\n",
    "# Write your code here 👇\n",
    "total_even_numbers = 0\n",
    "for numbers in range(target +1):\n",
    "  if numbers % 2 == 0:\n",
    "    total_even_numbers+= numbers\n",
    "print(total_even_numbers)"
   ]
  },
  {
   "cell_type": "code",
   "execution_count": 20,
   "id": "bb944f2d",
   "metadata": {},
   "outputs": [
    {
     "name": "stdout",
     "output_type": "stream",
     "text": [
      "1\n",
      "2\n",
      "Fizz\n",
      "4\n",
      "Buzz\n",
      "Fizz\n",
      "7\n",
      "8\n",
      "Fizz\n",
      "Buzz\n",
      "11\n",
      "Fizz\n",
      "13\n",
      "14\n",
      "Fizzbuzz\n",
      "16\n",
      "17\n",
      "Fizz\n",
      "19\n",
      "Buzz\n",
      "Fizz\n",
      "22\n",
      "23\n",
      "Fizz\n",
      "Buzz\n",
      "26\n",
      "Fizz\n",
      "28\n",
      "29\n",
      "Fizzbuzz\n",
      "31\n",
      "32\n",
      "Fizz\n",
      "34\n",
      "Buzz\n",
      "Fizz\n",
      "37\n",
      "38\n",
      "Fizz\n",
      "Buzz\n",
      "41\n",
      "Fizz\n",
      "43\n",
      "44\n",
      "Fizzbuzz\n",
      "46\n",
      "47\n",
      "Fizz\n",
      "49\n",
      "Buzz\n",
      "Fizz\n",
      "52\n",
      "53\n",
      "Fizz\n",
      "Buzz\n",
      "56\n",
      "Fizz\n",
      "58\n",
      "59\n",
      "Fizzbuzz\n",
      "61\n",
      "62\n",
      "Fizz\n",
      "64\n",
      "Buzz\n",
      "Fizz\n",
      "67\n",
      "68\n",
      "Fizz\n",
      "Buzz\n",
      "71\n",
      "Fizz\n",
      "73\n",
      "74\n",
      "Fizzbuzz\n",
      "76\n",
      "77\n",
      "Fizz\n",
      "79\n",
      "Buzz\n",
      "Fizz\n",
      "82\n",
      "83\n",
      "Fizz\n",
      "Buzz\n",
      "86\n",
      "Fizz\n",
      "88\n",
      "89\n",
      "Fizzbuzz\n",
      "91\n",
      "92\n",
      "Fizz\n",
      "94\n",
      "Buzz\n",
      "Fizz\n",
      "97\n",
      "98\n",
      "Fizz\n",
      "Buzz\n"
     ]
    }
   ],
   "source": [
    "###DAY 5 exercise 4 (building a fizzbuzz game)\n",
    "for number in range(1, 101):\n",
    "    #number divisible by 3 and 5\n",
    "    if number % 3 == 0 and number % 5 == 0:\n",
    "        print(\"Fizzbuzz\")\n",
    "        #number divisible by 3 \n",
    "    elif number % 3 == 0:\n",
    "        print(\"Fizz\")\n",
    "        #number divisible by 5\n",
    "    elif number % 5 == 0:\n",
    "        print(\"Buzz\")\n",
    "        #printing out the number from the item\n",
    "    else:\n",
    "        print(number)"
   ]
  },
  {
   "cell_type": "markdown",
   "id": "ffb280c5",
   "metadata": {},
   "source": [
    "#### DAY 5 FINAL PROJECT"
   ]
  },
  {
   "cell_type": "code",
   "execution_count": 23,
   "id": "0a5349ea",
   "metadata": {},
   "outputs": [
    {
     "name": "stdout",
     "output_type": "stream",
     "text": [
      "Welcome to the PyPassword Generator!\n",
      "How many letters would you like in your password?\n",
      "10\n",
      "How many symbols would you like?\n",
      "1\n",
      "How many numbers would you like?\n",
      "3\n",
      "Jcr41SxqyW$v0G\n"
     ]
    }
   ],
   "source": [
    "#Password Generator Project\n",
    "import random\n",
    "letters = ['a', 'b', 'c', 'd', 'e', 'f', 'g', 'h', 'i', 'j', 'k', 'l', 'm', 'n', 'o', 'p', 'q', 'r', 's', 't', 'u', 'v', 'w', 'x', 'y', 'z', 'A', 'B', 'C', 'D', 'E', 'F', 'G', 'H', 'I', 'J', 'K', 'L', 'M', 'N', 'O', 'P', 'Q', 'R', 'S', 'T', 'U', 'V', 'W', 'X', 'Y', 'Z']\n",
    "numbers = ['0', '1', '2', '3', '4', '5', '6', '7', '8', '9']\n",
    "symbols = ['!', '#', '$', '%', '&', '(', ')', '*', '+']\n",
    "\n",
    "print(\"Welcome to the PyPassword Generator!\")\n",
    "nr_letters= int(input(\"How many letters would you like in your password?\\n\")) \n",
    "nr_symbols = int(input(f\"How many symbols would you like?\\n\"))\n",
    "nr_numbers = int(input(f\"How many numbers would you like?\\n\"))\n",
    "#Generating the password\n",
    "Generating_password = [random.choice(letters)for _ in range(nr_letters)]\n",
    "Generating_password += [random.choice(numbers) for _ in range(nr_numbers)]\n",
    "Generating_password += [random.choice(symbols)for _  in range (nr_symbols)]\n",
    "#Getting the password\n",
    "random.shuffle(Generating_password)\n",
    "password = ''.join(Generating_password)\n",
    "print(password)"
   ]
  },
  {
   "cell_type": "code",
   "execution_count": 25,
   "id": "e6f28a84",
   "metadata": {},
   "outputs": [
    {
     "name": "stdout",
     "output_type": "stream",
     "text": [
      "Welcome to the PyPassword Generator!\n",
      "How many letters would you like in your password?\n",
      "5\n",
      "How many symbols would you like?\n",
      "2\n",
      "How many numbers would you like?\n",
      "3\n",
      "D\n",
      "Ds\n",
      "Dsk\n",
      "DskM\n",
      "DskMP\n"
     ]
    }
   ],
   "source": [
    "#Password Generator Project\n",
    "import random\n",
    "letters = ['a', 'b', 'c', 'd', 'e', 'f', 'g', 'h', 'i', 'j', 'k', 'l', 'm', 'n', 'o', 'p', 'q', 'r', 's', 't', 'u', 'v', 'w', 'x', 'y', 'z', 'A', 'B', 'C', 'D', 'E', 'F', 'G', 'H', 'I', 'J', 'K', 'L', 'M', 'N', 'O', 'P', 'Q', 'R', 'S', 'T', 'U', 'V', 'W', 'X', 'Y', 'Z']\n",
    "numbers = ['0', '1', '2', '3', '4', '5', '6', '7', '8', '9']\n",
    "symbols = ['!', '#', '$', '%', '&', '(', ')', '*', '+']\n",
    "\n",
    "print(\"Welcome to the PyPassword Generator!\")\n",
    "nr_letters= int(input(\"How many letters would you like in your password?\\n\")) \n",
    "nr_symbols = int(input(f\"How many symbols would you like?\\n\"))\n",
    "nr_numbers = int(input(f\"How many numbers would you like?\\n\"))\n",
    "#Generating the password\n",
    "password = ''\n",
    "#setting the fore loop\n",
    "for characters in range (1, nr_letters +1):\n",
    "    random_characters = random.choice(letters)x\n",
    "    password+=random_characters\n",
    "    print(password)"
   ]
  }
 ],
 "metadata": {
  "kernelspec": {
   "display_name": "Python 3 (ipykernel)",
   "language": "python",
   "name": "python3"
  },
  "language_info": {
   "codemirror_mode": {
    "name": "ipython",
    "version": 3
   },
   "file_extension": ".py",
   "mimetype": "text/x-python",
   "name": "python",
   "nbconvert_exporter": "python",
   "pygments_lexer": "ipython3",
   "version": "3.11.5"
  }
 },
 "nbformat": 4,
 "nbformat_minor": 5
}
