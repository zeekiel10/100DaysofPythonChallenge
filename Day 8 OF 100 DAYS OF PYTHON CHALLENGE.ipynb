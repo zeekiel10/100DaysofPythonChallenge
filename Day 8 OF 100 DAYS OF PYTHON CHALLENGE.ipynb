{
 "cells": [
  {
   "cell_type": "markdown",
   "id": "4fd9fe1e",
   "metadata": {},
   "source": [
    "### DAY 8 (FUNCTIONS WITH INPUT)"
   ]
  },
  {
   "cell_type": "code",
   "execution_count": 1,
   "id": "e135ac72",
   "metadata": {},
   "outputs": [
    {
     "name": "stdout",
     "output_type": "stream",
     "text": [
      "Hello World\n",
      "How are you doing today?\n",
      "Do have a nice day\n"
     ]
    }
   ],
   "source": [
    "#Day 8 (functions and input)\n",
    "#Create a function called greet ()\n",
    "def greet():\n",
    "    print(\"Hello World\")\n",
    "    print(\"How are you doing today?\")\n",
    "    print(\"Do have a nice day\")\n",
    "    \n",
    "greet()"
   ]
  },
  {
   "cell_type": "code",
   "execution_count": 2,
   "id": "c59baea2",
   "metadata": {},
   "outputs": [
    {
     "name": "stdout",
     "output_type": "stream",
     "text": [
      "Hello World Ayobami\n",
      "How are you doing today Ayobami?\n",
      "Do have a nice day Ayobami\n"
     ]
    }
   ],
   "source": [
    "#Creating a function with input:\n",
    "def greet_with_name(name):\n",
    "     print(f\"Hello World {name}\")\n",
    "     print(f\"How are you doing today {name}?\")\n",
    "     print(f\"Do have a nice day {name}\")\n",
    "    \n",
    " \n",
    "\n",
    "greet_with_name(\"Ayobami\")"
   ]
  },
  {
   "cell_type": "code",
   "execution_count": 3,
   "id": "3d9d31bc",
   "metadata": {},
   "outputs": [
    {
     "name": "stdout",
     "output_type": "stream",
     "text": [
      "Hello Oluwadamilare\n",
      "What is it like in Ilorin?\n"
     ]
    }
   ],
   "source": [
    "#Creating functions of two input\n",
    "def greet_with (name,location):\n",
    "    print(f\"Hello {name}\")\n",
    "    print(f\"What is it like in {location}?\")\n",
    "    \n",
    "greet_with(\"Oluwadamilare\",\"Ilorin\")"
   ]
  },
  {
   "cell_type": "code",
   "execution_count": 4,
   "id": "00c8aac1",
   "metadata": {},
   "outputs": [
    {
     "name": "stdout",
     "output_type": "stream",
     "text": [
      "Hello Oluwadamilare\n",
      "What is it like in Ilorin?\n"
     ]
    }
   ],
   "source": [
    "#Creating functions of two input\n",
    "def greet_with (name,location):\n",
    "    print(f\"Hello {name}\")\n",
    "    print(f\"What is it like in {location}?\")\n",
    " #Using Keyword Argument   \n",
    "greet_with(location = \"Ilorin\",name = \"Oluwadamilare\")"
   ]
  },
  {
   "cell_type": "code",
   "execution_count": 6,
   "id": "33e8f6ab",
   "metadata": {},
   "outputs": [
    {
     "name": "stdout",
     "output_type": "stream",
     "text": [
      "67\n",
      "It's a prime number.\n"
     ]
    }
   ],
   "source": [
    "#Day 8 ex1 (Prime numbers)\n",
    "#Checking prime numbers\n",
    "def prime_checker(number):\n",
    "    prime = True\n",
    "    for i in range(2, number):\n",
    "        if number % i == 0:\n",
    "            prime = False            \n",
    "            # No need to continue checking if a factor is found\n",
    "            break\n",
    "    if prime:\n",
    "        print(\"It's a prime number.\")\n",
    "    else:\n",
    "        print(\"It's not a prime number.\")\n",
    "\n",
    "n = int(input()) \n",
    "# Check this number\n",
    "prime_checker(number=n)"
   ]
  },
  {
   "cell_type": "code",
   "execution_count": 7,
   "id": "04ca6b83",
   "metadata": {
    "scrolled": true
   },
   "outputs": [
    {
     "name": "stdout",
     "output_type": "stream",
     "text": [
      "4\n",
      "5\n",
      "You'll need 4 cans of paint.\n"
     ]
    }
   ],
   "source": [
    "#Day 8 ex2 \n",
    "#importing the math function for calculated values\n",
    "import math\n",
    "#creating a function called paint_calc\n",
    "def paint_calc(height,width,cover):\n",
    "  num_of_cans = (height * width)/cover\n",
    "  rounded_cans = math.ceil(num_of_cans)\n",
    "  print(f\"You'll need {rounded_cans} cans of paint.\")\n",
    "# Write your code above this line 👆\n",
    "# Define a function called paint_calc() so the code below works.   \n",
    "\n",
    "# 🚨 Don't change the code below 👇\n",
    "test_h = int(input()) # Height of wall (m)\n",
    "test_w = int(input()) # Width of wall (m)\n",
    "coverage = 5\n",
    "paint_calc(height=test_h, width=test_w, cover=coverage)\n"
   ]
  },
  {
   "cell_type": "markdown",
   "id": "2056577c",
   "metadata": {},
   "source": [
    "### CESAR_CIPHER"
   ]
  },
  {
   "cell_type": "code",
   "execution_count": 21,
   "id": "d93c4aea",
   "metadata": {},
   "outputs": [
    {
     "name": "stdout",
     "output_type": "stream",
     "text": [
      "Type 'encode' to encrypt, type 'decode' to decrypt:\n",
      "encode\n",
      "Type your message:\n",
      "bombay\n",
      "Type the shift number:\n",
      "5\n",
      "The encoded text is: gtrgfd\n"
     ]
    }
   ],
   "source": [
    "alphabet = ['a', 'b', 'c', 'd', 'e', 'f', 'g', 'h', 'i', 'j', 'k', 'l', 'm', 'n', 'o', 'p', 'q', 'r', 's', 't', 'u', 'v', 'w', 'x', 'y', 'z']\n",
    "\n",
    "direction = input(\"Type 'encode' to encrypt, type 'decode' to decrypt:\\n\").lower()\n",
    "text = input(\"Type your message:\\n\").lower()\n",
    "shift = int(input(\"Type the shift number:\\n\"))\n",
    "\n",
    "def cesar_cipher(start_text, shift_amt, cipher_direction):\n",
    "    cipher_text = \"\"\n",
    "    for letter in start_text:\n",
    "        if letter in alphabet:\n",
    "            position = alphabet.index(letter)\n",
    "            if cipher_direction == 'encode':\n",
    "                new_position = (position + shift_amt) % 26\n",
    "            elif cipher_direction == 'decode':\n",
    "                new_position = (position - shift_amt) % 26\n",
    "            new_letter = alphabet[new_position]\n",
    "            cipher_text += new_letter\n",
    "        else:\n",
    "            cipher_text += letter\n",
    "\n",
    "    print(f\"The {cipher_direction}d text is: {cipher_text}\")\n",
    "\n",
    "cesar_cipher(start_text=text, shift_amt=shift, cipher_direction=direction)\n"
   ]
  }
 ],
 "metadata": {
  "kernelspec": {
   "display_name": "Python 3 (ipykernel)",
   "language": "python",
   "name": "python3"
  },
  "language_info": {
   "codemirror_mode": {
    "name": "ipython",
    "version": 3
   },
   "file_extension": ".py",
   "mimetype": "text/x-python",
   "name": "python",
   "nbconvert_exporter": "python",
   "pygments_lexer": "ipython3",
   "version": "3.11.5"
  }
 },
 "nbformat": 4,
 "nbformat_minor": 5
}
