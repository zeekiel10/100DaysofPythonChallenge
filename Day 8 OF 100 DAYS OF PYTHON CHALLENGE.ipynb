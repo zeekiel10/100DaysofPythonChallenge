{
 "cells": [
  {
   "cell_type": "code",
   "execution_count": 3,
   "id": "e135ac72",
   "metadata": {},
   "outputs": [
    {
     "name": "stdout",
     "output_type": "stream",
     "text": [
      "Hello World\n",
      "How are you doing today?\n",
      "Do have a nice day\n"
     ]
    }
   ],
   "source": [
    "#Day 8 (functions and input)\n",
    "#Create a function called greet ()\n",
    "def greet():\n",
    "    print(\"Hello World\")\n",
    "    print(\"How are you doing today?\")\n",
    "    print(\"Do have a nice day\")\n",
    "    \n",
    "greet()"
   ]
  },
  {
   "cell_type": "code",
   "execution_count": 19,
   "id": "c59baea2",
   "metadata": {},
   "outputs": [
    {
     "name": "stdout",
     "output_type": "stream",
     "text": [
      "Hello World Ayobami\n",
      "How are you doing today Ayobami?\n",
      "Do have a nice day Ayobami\n"
     ]
    }
   ],
   "source": [
    "#Creating a function with input:\n",
    "def greet_with_name(name):\n",
    "     print(f\"Hello World {name}\")\n",
    "     print(f\"How are you doing today {name}?\")\n",
    "     print(f\"Do have a nice day {name}\")\n",
    "    \n",
    " \n",
    "\n",
    "greet_with_name(\"Ayobami\")"
   ]
  }
 ],
 "metadata": {
  "kernelspec": {
   "display_name": "Python 3 (ipykernel)",
   "language": "python",
   "name": "python3"
  },
  "language_info": {
   "codemirror_mode": {
    "name": "ipython",
    "version": 3
   },
   "file_extension": ".py",
   "mimetype": "text/x-python",
   "name": "python",
   "nbconvert_exporter": "python",
   "pygments_lexer": "ipython3",
   "version": "3.11.5"
  }
 },
 "nbformat": 4,
 "nbformat_minor": 5
}
