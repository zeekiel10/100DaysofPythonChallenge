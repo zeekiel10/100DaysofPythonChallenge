{
 "cells": [
  {
   "cell_type": "markdown",
   "id": "d13b1129",
   "metadata": {},
   "source": [
    "#### RANDOMISATION"
   ]
  },
  {
   "cell_type": "code",
   "execution_count": 28,
   "id": "5935c058",
   "metadata": {},
   "outputs": [
    {
     "name": "stdout",
     "output_type": "stream",
     "text": [
      "7\n",
      "0.15085120030270838\n",
      "4.734690505088143\n",
      "Your love score is 88\n",
      "Heads\n"
     ]
    }
   ],
   "source": [
    "# Create random whole number (Day 4)\n",
    "import random\n",
    "random_int = random.randint(1,10)\n",
    "print(random_int)\n",
    "#generation random with float\n",
    "random_float = random.random()\n",
    "print(random_float)\n",
    "#generation a decimal number (0-5)\n",
    "randomfloat = random.random()*5\n",
    "print(randomfloat)\n",
    "#instead of generating a love score calculator. we can generated the numbers\n",
    "love_score = random.randint(1,100)\n",
    "print(f\"Your love score is {love_score}\")\n",
    "#Exercise 1\n",
    "# Hint: Remember to import the random module first. 🎲\n",
    "import random\n",
    "number = random.randint(0,1)\n",
    "if number == 0:\n",
    "  print(\"Tails\")\n",
    "else:\n",
    "  print(\"Heads\")"
   ]
  },
  {
   "cell_type": "markdown",
   "id": "f33bfc77",
   "metadata": {},
   "source": [
    "### list"
   ]
  },
  {
   "cell_type": "code",
   "execution_count": 34,
   "id": "520a0e44",
   "metadata": {},
   "outputs": [
    {
     "name": "stdout",
     "output_type": "stream",
     "text": [
      "Chloe is going to buy the meal today!\n"
     ]
    }
   ],
   "source": [
    "# Day 3 exercise 2\n",
    "names_string = \"Angela, Ben, Jenny, Michael, Chloe\"\n",
    "names = names_string.split(\", \")\n",
    "# The code above converts the input into an array separating\n",
    "# each name in the input by a comma and space.\n",
    "# 🚨 Don't change the code above 👆\n",
    "\n",
    "import random\n",
    "\n",
    "# Check if there are names in the list\n",
    "if len(names) > 0:\n",
    "    # Total number of items on the list\n",
    "    num_items = len(names)\n",
    "    \n",
    "    # Generate a random index to select a person\n",
    "    rand_choice = random.randint(0, num_items - 1)\n",
    "    \n",
    "    # Get the person who will pay\n",
    "    person_who_will_pay = names[rand_choice]\n",
    "    \n",
    "    # Display the result\n",
    "    print(f\"{person_who_will_pay} is going to buy the meal today!\")\n",
    "else:\n",
    "    print(\"No names in the list. Cannot determine who will buy the meal.\")\n"
   ]
  },
  {
   "cell_type": "code",
   "execution_count": 39,
   "id": "fd704936",
   "metadata": {},
   "outputs": [
    {
     "name": "stdout",
     "output_type": "stream",
     "text": [
      "Hiding your treasure! X marks the spot.\n",
      "b3\n",
      "['⬜️', '️⬜️', '️⬜️']\n",
      "['⬜️', '⬜️', '️⬜️']\n",
      "['⬜️️', 'X', '⬜️️']\n"
     ]
    }
   ],
   "source": [
    "line1 = [\"⬜️\", \"️⬜️\", \"️⬜️\"]\n",
    "line2 = [\"⬜️\", \"⬜️\", \"️⬜️\"]\n",
    "line3 = [\"⬜️️\", \"⬜️️\", \"⬜️️\"]\n",
    "map = [line1, line2, line3]\n",
    "\n",
    "print(\"Hiding your treasure! X marks the spot.\")\n",
    "position = input()  # Where do you want to put the treasure?\n",
    "\n",
    "# Extract the letter and number from the input\n",
    "letter = position[0].lower()\n",
    "abc = [\"a\", \"b\", \"c\"]\n",
    "letter_index = abc.index(letter)\n",
    "number_index = int(position[1]) - 1\n",
    "\n",
    "# Mark the treasure on the map\n",
    "map[number_index][letter_index] = \"X\"\n",
    "\n",
    "# Display the updated map\n",
    "print(f\"{line1}\\n{line2}\\n{line3}\")\n"
   ]
  },
  {
   "cell_type": "markdown",
   "id": "0c0596d7",
   "metadata": {},
   "source": [
    "###### DAY 4 PROJECT ROCK,PAPER,SCISSOR GAME"
   ]
  },
  {
   "cell_type": "code",
   "execution_count": 44,
   "id": "5438b14a",
   "metadata": {},
   "outputs": [
    {
     "name": "stdout",
     "output_type": "stream",
     "text": [
      "What do you want to choose? Type 0 for Rock, 1 for paper, and 2 for scissors: 0\n",
      "You pick:\n",
      "\n",
      "    _______\n",
      "---'   ____)\n",
      "      (_____)\n",
      "      (_____)\n",
      "      (____)\n",
      "---.__(___)\n",
      "\n",
      "Computer picks:\n",
      "\n",
      "    _______\n",
      "---'   ____)____\n",
      "          ______)\n",
      "          _______)\n",
      "         _______)\n",
      "---.__________)\n",
      "\n",
      "You lose!\n"
     ]
    }
   ],
   "source": [
    "rock = '''\n",
    "    _______\n",
    "---'   ____)\n",
    "      (_____)\n",
    "      (_____)\n",
    "      (____)\n",
    "---.__(___)\n",
    "'''\n",
    "\n",
    "paper = '''\n",
    "    _______\n",
    "---'   ____)____\n",
    "          ______)\n",
    "          _______)\n",
    "         _______)\n",
    "---.__________)\n",
    "'''\n",
    "\n",
    "scissors = '''\n",
    "    _______\n",
    "---'   ____)____\n",
    "          ______)\n",
    "       __________)\n",
    "      (____)\n",
    "---.__(___)\n",
    "'''\n",
    "getimages = [rock, paper, scissors]\n",
    "\n",
    "# Write your code below this line 👇\n",
    "import random\n",
    "\n",
    "# Take input from the user\n",
    "user = int(input(\"What do you want to choose? Type 0 for Rock, 1 for paper, and 2 for scissors: \"))\n",
    "\n",
    "if user >= 3 or user < 0:\n",
    "    print(\"What you typed doesn't exist. You lose!\")\n",
    "else:\n",
    "    print(\"You pick:\")\n",
    "    print(getimages[user])\n",
    "\n",
    "computer = random.randint(0, 2)\n",
    "print(\"Computer picks:\")\n",
    "print(getimages[computer])\n",
    "\n",
    "if user == 0 and computer == 2:\n",
    "    print(\"You win!\")\n",
    "elif user == 2 and computer == 0:\n",
    "    print(\"You lose!\")\n",
    "elif computer > user:\n",
    "    print(\"You lose!\")\n",
    "elif user > computer:\n",
    "    print(\"You win!\")\n",
    "elif computer == user:\n",
    "    print(\"It's a tie!\")\n"
   ]
  }
 ],
 "metadata": {
  "kernelspec": {
   "display_name": "Python 3 (ipykernel)",
   "language": "python",
   "name": "python3"
  },
  "language_info": {
   "codemirror_mode": {
    "name": "ipython",
    "version": 3
   },
   "file_extension": ".py",
   "mimetype": "text/x-python",
   "name": "python",
   "nbconvert_exporter": "python",
   "pygments_lexer": "ipython3",
   "version": "3.11.5"
  }
 },
 "nbformat": 4,
 "nbformat_minor": 5
}
